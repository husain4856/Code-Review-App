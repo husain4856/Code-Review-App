{
 "cells": [
  {
   "cell_type": "markdown",
   "id": "b7772ca1",
   "metadata": {},
   "source": [
    "Importing Libraries"
   ]
  },
  {
   "cell_type": "code",
   "execution_count": 1,
   "id": "f8f97df9",
   "metadata": {},
   "outputs": [
    {
     "name": "stderr",
     "output_type": "stream",
     "text": [
      "C:\\Users\\Husain\\anaconda3\\envs\\code_reviewer\\lib\\site-packages\\tqdm\\auto.py:21: TqdmWarning: IProgress not found. Please update jupyter and ipywidgets. See https://ipywidgets.readthedocs.io/en/stable/user_install.html\n",
      "  from .autonotebook import tqdm as notebook_tqdm\n"
     ]
    }
   ],
   "source": [
    "import google.generativeai as genai"
   ]
  },
  {
   "cell_type": "markdown",
   "id": "4cb18851",
   "metadata": {},
   "source": [
    "Reading Key from File "
   ]
  },
  {
   "cell_type": "code",
   "execution_count": 2,
   "id": "c4cde94d",
   "metadata": {},
   "outputs": [],
   "source": [
    "f = open(\"keys\")\n",
    "key = f.read()\n",
    "\n",
    "genai.configure(api_key=key)"
   ]
  },
  {
   "cell_type": "markdown",
   "id": "ca0d1f58",
   "metadata": {},
   "source": [
    "List of Models "
   ]
  },
  {
   "cell_type": "code",
   "execution_count": 3,
   "id": "66e7c208",
   "metadata": {},
   "outputs": [
    {
     "name": "stdout",
     "output_type": "stream",
     "text": [
      "models/chat-bison-001\n",
      "models/text-bison-001\n",
      "models/embedding-gecko-001\n",
      "models/gemini-1.0-pro-latest\n",
      "models/gemini-1.0-pro\n",
      "models/gemini-pro\n",
      "models/gemini-1.0-pro-001\n",
      "models/gemini-1.0-pro-vision-latest\n",
      "models/gemini-pro-vision\n",
      "models/gemini-1.5-pro-latest\n",
      "models/gemini-1.5-pro-001\n",
      "models/gemini-1.5-pro-002\n",
      "models/gemini-1.5-pro\n",
      "models/gemini-1.5-pro-exp-0801\n",
      "models/gemini-1.5-pro-exp-0827\n",
      "models/gemini-1.5-flash-latest\n",
      "models/gemini-1.5-flash-001\n",
      "models/gemini-1.5-flash-001-tuning\n",
      "models/gemini-1.5-flash\n",
      "models/gemini-1.5-flash-exp-0827\n",
      "models/gemini-1.5-flash-002\n",
      "models/gemini-1.5-flash-8b\n",
      "models/gemini-1.5-flash-8b-001\n",
      "models/gemini-1.5-flash-8b-latest\n",
      "models/gemini-1.5-flash-8b-exp-0827\n",
      "models/gemini-1.5-flash-8b-exp-0924\n",
      "models/gemini-exp-1114\n",
      "models/embedding-001\n",
      "models/text-embedding-004\n",
      "models/aqa\n"
     ]
    }
   ],
   "source": [
    "for m in genai.list_models():\n",
    "    print(m.name)"
   ]
  },
  {
   "cell_type": "markdown",
   "id": "b7cf2f0d",
   "metadata": {},
   "source": [
    "Checking if the API is working correctly "
   ]
  },
  {
   "cell_type": "code",
   "execution_count": 4,
   "id": "245bf5a6",
   "metadata": {},
   "outputs": [],
   "source": [
    "genai.configure(api_key=key)"
   ]
  },
  {
   "cell_type": "code",
   "execution_count": 5,
   "id": "cc8eb090",
   "metadata": {},
   "outputs": [
    {
     "name": "stdout",
     "output_type": "stream",
     "text": [
      "In our solar system, Earth is a **planet**.\n",
      "\n"
     ]
    }
   ],
   "source": [
    "model = genai.GenerativeModel(model_name=\"models/gemini-1.5-flash\")\n",
    "\n",
    "user_prompt = \"\"\"Complete the following:\n",
    "                In our solar system, Earth is a \"\"\"\n",
    "\n",
    "response = model.generate_content(user_prompt)\n",
    "\n",
    "print(response.text)"
   ]
  },
  {
   "cell_type": "markdown",
   "id": "a721e729",
   "metadata": {},
   "source": [
    "# Code Reviwer App "
   ]
  },
  {
   "cell_type": "code",
   "execution_count": 6,
   "id": "afd8f861",
   "metadata": {},
   "outputs": [
    {
     "name": "stderr",
     "output_type": "stream",
     "text": [
      "2024-11-18 18:48:02.560 WARNING streamlit.runtime.scriptrunner_utils.script_run_context: Thread 'MainThread': missing ScriptRunContext! This warning can be ignored when running in bare mode.\n",
      "2024-11-18 18:48:02.868 \n",
      "  \u001b[33m\u001b[1mWarning:\u001b[0m to view this Streamlit app on a browser, run it with the following\n",
      "  command:\n",
      "\n",
      "    streamlit run C:\\Users\\Husain\\anaconda3\\envs\\code_reviewer\\lib\\site-packages\\ipykernel_launcher.py [ARGUMENTS]\n",
      "2024-11-18 18:48:02.868 Thread 'MainThread': missing ScriptRunContext! This warning can be ignored when running in bare mode.\n",
      "2024-11-18 18:48:02.869 Thread 'MainThread': missing ScriptRunContext! This warning can be ignored when running in bare mode.\n",
      "2024-11-18 18:48:02.869 Thread 'MainThread': missing ScriptRunContext! This warning can be ignored when running in bare mode.\n",
      "2024-11-18 18:48:02.870 Thread 'MainThread': missing ScriptRunContext! This warning can be ignored when running in bare mode.\n",
      "2024-11-18 18:48:02.870 Thread 'MainThread': missing ScriptRunContext! This warning can be ignored when running in bare mode.\n",
      "2024-11-18 18:48:02.871 Thread 'MainThread': missing ScriptRunContext! This warning can be ignored when running in bare mode.\n",
      "2024-11-18 18:48:02.871 Thread 'MainThread': missing ScriptRunContext! This warning can be ignored when running in bare mode.\n",
      "2024-11-18 18:48:02.872 Thread 'MainThread': missing ScriptRunContext! This warning can be ignored when running in bare mode.\n",
      "2024-11-18 18:48:02.873 Thread 'MainThread': missing ScriptRunContext! This warning can be ignored when running in bare mode.\n",
      "2024-11-18 18:48:02.873 Thread 'MainThread': missing ScriptRunContext! This warning can be ignored when running in bare mode.\n",
      "2024-11-18 18:48:02.874 Thread 'MainThread': missing ScriptRunContext! This warning can be ignored when running in bare mode.\n",
      "2024-11-18 18:48:02.875 Thread 'MainThread': missing ScriptRunContext! This warning can be ignored when running in bare mode.\n",
      "2024-11-18 18:48:02.875 Thread 'MainThread': missing ScriptRunContext! This warning can be ignored when running in bare mode.\n",
      "2024-11-18 18:48:02.876 Session state does not function when running a script without `streamlit run`\n",
      "2024-11-18 18:48:02.877 Thread 'MainThread': missing ScriptRunContext! This warning can be ignored when running in bare mode.\n",
      "2024-11-18 18:48:02.877 Thread 'MainThread': missing ScriptRunContext! This warning can be ignored when running in bare mode.\n",
      "2024-11-18 18:48:02.877 Thread 'MainThread': missing ScriptRunContext! This warning can be ignored when running in bare mode.\n",
      "2024-11-18 18:48:02.879 Thread 'MainThread': missing ScriptRunContext! This warning can be ignored when running in bare mode.\n",
      "2024-11-18 18:48:02.879 Thread 'MainThread': missing ScriptRunContext! This warning can be ignored when running in bare mode.\n",
      "2024-11-18 18:48:02.879 Thread 'MainThread': missing ScriptRunContext! This warning can be ignored when running in bare mode.\n",
      "2024-11-18 18:48:02.880 Thread 'MainThread': missing ScriptRunContext! This warning can be ignored when running in bare mode.\n"
     ]
    }
   ],
   "source": [
    "import streamlit as st\n",
    "import google.generativeai as genai\n",
    "\n",
    "f = open(\"keys\")\n",
    "key = f.read()\n",
    "api_key = key  # Replace with your actual API key\n",
    "genai.configure(api_key=api_key)\n",
    "\n",
    "# Streamlit app layout\n",
    "st.sidebar.title(\"AI Code Reviewer\")\n",
    "st.sidebar.markdown(\"This tool reviews Python code, identifies issues, and suggests corrections.\")\n",
    "\n",
    "st.title(\"Google Gemini AI Code Reviewer\")\n",
    "st.write(\"Paste your Python code below to get a detailed review and suggestions.\")\n",
    "\n",
    "# Code input from the user\n",
    "code_input = st.text_area(\"Paste your Python code here:\", height=300)\n",
    "\n",
    "if st.button(\"Review Code\"):\n",
    "    if not code_input.strip():\n",
    "        st.error(\"Please paste Python code for review.\")\n",
    "    else:\n",
    "        try:\n",
    "            # Instantiate the model\n",
    "            model = genai.GenerativeModel(\n",
    "                model_name=\"models/gemini-1.5-pro-latest\",\n",
    "                system_instruction=\"\"\"Review Python code. Highlight mistakes, suggest corrections with reasons, \n",
    "                                      and provide the corrected code at the end.\"\"\"\n",
    "            )\n",
    "            \n",
    "            # Define the custom generation configuration\n",
    "            custom_config = genai.types.GenerationConfig(\n",
    "                max_output_tokens=512,\n",
    "                temperature=0.7,\n",
    "                top_p=0.9,\n",
    "                top_k=40\n",
    "            )\n",
    "            \n",
    "            # Create the prompt\n",
    "            prompt = f\"\"\"Review the following Python code:\n",
    "            1. Identify mistakes and explain their impact.\n",
    "            2. Suggest corrections with reasoning.\n",
    "            3. Provide the corrected code at the end.\n",
    "\n",
    "            Code:\n",
    "            {code_input}\"\"\"\n",
    "\n",
    "            # Generate the review response\n",
    "            response = model.generate_content(prompt, generation_config=custom_config)\n",
    "\n",
    "            # Display AI-generated review\n",
    "            st.subheader(\"Code Review and Suggestions:\")\n",
    "\n",
    "            # Split response into sections (assuming AI organizes output into paragraphs or sections)\n",
    "            review_sections = response.text.split(\"\\n\\n\")  # Assuming newlines separate parts\n",
    "            for section in review_sections[:-1]:  # Exclude the last section which contains corrected code\n",
    "                st.write(section)\n",
    "\n",
    "            # Display corrected code\n",
    "            st.subheader(\"Corrected Code:\")\n",
    "            corrected_code = review_sections[-1]  # Assuming last part contains corrected code\n",
    "            st.code(corrected_code, language=\"python\")\n",
    "\n",
    "        except Exception as e:\n",
    "            st.error(f\"An error occurred: {e}\")"
   ]
  },
  {
   "cell_type": "markdown",
   "id": "9dcc98f8",
   "metadata": {},
   "source": [
    "Launch the app in your terminal after saving this file as a .py file using \n",
    "- streamlit run your-file-path.py  "
   ]
  },
  {
   "cell_type": "code",
   "execution_count": null,
   "id": "c7836e86",
   "metadata": {},
   "outputs": [],
   "source": []
  }
 ],
 "metadata": {
  "kernelspec": {
   "display_name": "Python 3 (ipykernel)",
   "language": "python",
   "name": "python3"
  },
  "language_info": {
   "codemirror_mode": {
    "name": "ipython",
    "version": 3
   },
   "file_extension": ".py",
   "mimetype": "text/x-python",
   "name": "python",
   "nbconvert_exporter": "python",
   "pygments_lexer": "ipython3",
   "version": "3.10.15"
  }
 },
 "nbformat": 4,
 "nbformat_minor": 5
}
